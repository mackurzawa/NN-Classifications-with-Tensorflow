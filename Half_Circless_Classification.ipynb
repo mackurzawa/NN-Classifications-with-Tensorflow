{
  "nbformat": 4,
  "nbformat_minor": 0,
  "metadata": {
    "colab": {
      "name": "Half Circless Classification.ipynb",
      "provenance": []
    },
    "kernelspec": {
      "name": "python3",
      "display_name": "Python 3"
    },
    "language_info": {
      "name": "python"
    }
  },
  "cells": [
    {
      "cell_type": "markdown",
      "source": [
        "# Predicting Half Circles from sklearn"
      ],
      "metadata": {
        "id": "05ncyW_xwfws"
      }
    },
    {
      "cell_type": "code",
      "execution_count": null,
      "metadata": {
        "id": "CyyDkRJKyqKJ"
      },
      "outputs": [],
      "source": [
        "import tensorflow as tf\n",
        "from sklearn.datasets import make_moons"
      ]
    },
    {
      "cell_type": "code",
      "source": [
        "# (X_train, y_train), (X_test, y_test) = make_moons(1000)\n",
        "X, y = make_moons(1000)"
      ],
      "metadata": {
        "id": "zHjrp4MBy-yH"
      },
      "execution_count": null,
      "outputs": []
    },
    {
      "cell_type": "code",
      "source": [
        "X"
      ],
      "metadata": {
        "colab": {
          "base_uri": "https://localhost:8080/"
        },
        "id": "zNyBzUxQzY93",
        "outputId": "e734e47f-3130-4822-9d19-ab3a218b9fff"
      },
      "execution_count": null,
      "outputs": [
        {
          "output_type": "execute_result",
          "data": {
            "text/plain": [
              "array([[ 0.50363926, -0.36811636],\n",
              "       [-0.09116202,  0.99583607],\n",
              "       [-0.91742927,  0.39789889],\n",
              "       ...,\n",
              "       [ 1.79701181, -0.10396372],\n",
              "       [ 0.29847979, -0.21264956],\n",
              "       [ 0.27045565,  0.96273243]])"
            ]
          },
          "metadata": {},
          "execution_count": 4
        }
      ]
    },
    {
      "cell_type": "code",
      "source": [
        "y"
      ],
      "metadata": {
        "colab": {
          "base_uri": "https://localhost:8080/"
        },
        "id": "o_aK6iVPzoAA",
        "outputId": "dc5daebb-f7c9-45ac-9361-37aeae5cae78"
      },
      "execution_count": null,
      "outputs": [
        {
          "output_type": "execute_result",
          "data": {
            "text/plain": [
              "array([1, 0, 0, 1, 0, 1, 1, 0, 1, 1, 1, 0, 1, 1, 0, 0, 0, 1, 0, 1, 0, 1,\n",
              "       1, 1, 1, 0, 1, 1, 0, 1, 1, 1, 1, 1, 1, 0, 0, 0, 1, 0, 1, 1, 1, 1,\n",
              "       1, 1, 1, 0, 0, 0, 0, 0, 0, 1, 1, 0, 0, 0, 1, 0, 0, 0, 0, 0, 0, 0,\n",
              "       0, 1, 0, 0, 1, 0, 0, 1, 1, 0, 0, 1, 0, 1, 0, 1, 1, 1, 1, 1, 0, 1,\n",
              "       1, 1, 0, 0, 1, 1, 0, 0, 0, 1, 0, 0, 1, 0, 1, 0, 1, 1, 0, 1, 0, 0,\n",
              "       0, 1, 0, 0, 1, 0, 0, 1, 0, 0, 0, 1, 1, 1, 0, 0, 1, 0, 0, 0, 1, 0,\n",
              "       1, 1, 1, 0, 1, 1, 0, 0, 0, 0, 0, 1, 1, 1, 1, 0, 1, 0, 0, 1, 1, 1,\n",
              "       0, 1, 0, 1, 1, 0, 1, 1, 1, 0, 1, 0, 1, 1, 0, 0, 0, 1, 1, 0, 0, 0,\n",
              "       1, 1, 0, 0, 0, 0, 0, 1, 0, 1, 1, 1, 0, 1, 0, 0, 0, 0, 0, 1, 1, 1,\n",
              "       0, 1, 1, 0, 1, 0, 1, 1, 0, 0, 0, 1, 1, 0, 1, 1, 0, 0, 1, 0, 1, 0,\n",
              "       1, 0, 0, 1, 0, 1, 0, 0, 0, 1, 0, 1, 1, 0, 0, 0, 1, 0, 1, 0, 0, 1,\n",
              "       0, 0, 1, 1, 1, 0, 1, 1, 1, 1, 1, 1, 1, 0, 0, 0, 1, 0, 0, 0, 1, 0,\n",
              "       1, 1, 1, 0, 0, 0, 1, 0, 0, 0, 1, 0, 1, 0, 0, 1, 0, 0, 0, 1, 1, 0,\n",
              "       0, 1, 0, 1, 1, 0, 1, 1, 1, 0, 1, 0, 1, 1, 0, 0, 1, 1, 0, 1, 0, 0,\n",
              "       0, 0, 1, 0, 1, 0, 0, 0, 0, 1, 1, 0, 1, 0, 1, 1, 0, 0, 1, 1, 0, 1,\n",
              "       0, 1, 1, 1, 1, 0, 1, 1, 0, 0, 1, 1, 0, 0, 0, 0, 0, 1, 1, 0, 0, 0,\n",
              "       0, 1, 1, 0, 1, 1, 0, 0, 1, 1, 1, 0, 0, 0, 0, 0, 1, 1, 1, 0, 1, 1,\n",
              "       1, 1, 1, 1, 0, 0, 0, 0, 1, 0, 1, 0, 1, 1, 0, 1, 0, 0, 1, 1, 0, 0,\n",
              "       0, 0, 1, 1, 0, 1, 0, 0, 1, 0, 1, 1, 1, 0, 1, 0, 0, 0, 1, 0, 0, 0,\n",
              "       0, 1, 0, 1, 1, 0, 1, 1, 1, 1, 0, 0, 0, 0, 1, 1, 1, 0, 0, 0, 0, 0,\n",
              "       0, 0, 1, 1, 0, 0, 1, 1, 0, 1, 0, 0, 1, 0, 1, 1, 1, 0, 1, 1, 1, 1,\n",
              "       0, 1, 1, 1, 0, 1, 0, 0, 1, 0, 0, 0, 1, 0, 1, 1, 1, 1, 1, 1, 0, 1,\n",
              "       0, 0, 0, 1, 1, 0, 0, 1, 1, 0, 0, 1, 0, 1, 0, 0, 1, 1, 0, 0, 1, 1,\n",
              "       0, 0, 1, 0, 0, 1, 1, 1, 0, 0, 1, 1, 1, 0, 0, 0, 1, 1, 1, 1, 0, 0,\n",
              "       0, 1, 1, 0, 1, 0, 1, 1, 0, 0, 1, 0, 0, 0, 1, 0, 0, 0, 1, 1, 1, 1,\n",
              "       1, 1, 0, 0, 0, 1, 1, 1, 0, 0, 1, 1, 1, 0, 0, 1, 0, 1, 0, 0, 1, 1,\n",
              "       1, 0, 0, 1, 1, 0, 0, 0, 0, 1, 1, 0, 1, 1, 1, 0, 1, 1, 1, 1, 0, 1,\n",
              "       0, 1, 0, 0, 0, 0, 1, 0, 0, 0, 0, 1, 1, 1, 1, 0, 1, 0, 0, 1, 0, 1,\n",
              "       0, 1, 0, 0, 0, 0, 0, 0, 1, 1, 0, 0, 0, 0, 0, 0, 0, 1, 1, 1, 0, 0,\n",
              "       0, 0, 0, 1, 0, 1, 0, 1, 1, 1, 1, 1, 0, 0, 0, 1, 0, 1, 1, 1, 1, 0,\n",
              "       0, 1, 0, 1, 1, 1, 0, 1, 1, 1, 1, 1, 1, 1, 1, 1, 0, 1, 1, 0, 1, 1,\n",
              "       0, 1, 1, 0, 1, 1, 1, 1, 1, 1, 1, 0, 1, 0, 0, 0, 1, 0, 1, 1, 1, 1,\n",
              "       1, 0, 0, 0, 0, 1, 0, 0, 0, 1, 0, 1, 0, 1, 0, 1, 0, 0, 0, 1, 1, 0,\n",
              "       0, 1, 0, 0, 0, 1, 1, 0, 1, 0, 0, 0, 0, 1, 1, 1, 1, 0, 1, 0, 0, 1,\n",
              "       0, 0, 0, 1, 0, 1, 1, 0, 0, 1, 1, 0, 1, 0, 0, 0, 0, 1, 0, 1, 1, 1,\n",
              "       1, 1, 0, 0, 1, 0, 0, 1, 0, 0, 0, 0, 0, 1, 1, 1, 1, 1, 1, 0, 0, 1,\n",
              "       0, 1, 0, 1, 1, 1, 0, 1, 1, 0, 0, 1, 0, 0, 1, 0, 0, 1, 1, 0, 1, 1,\n",
              "       0, 0, 0, 0, 0, 0, 0, 1, 0, 0, 0, 0, 0, 1, 0, 1, 1, 0, 0, 0, 0, 0,\n",
              "       1, 0, 1, 1, 1, 0, 1, 1, 0, 0, 0, 1, 0, 0, 1, 0, 1, 0, 1, 0, 1, 1,\n",
              "       0, 0, 0, 1, 1, 0, 1, 0, 0, 0, 0, 1, 0, 0, 0, 1, 0, 1, 1, 0, 0, 0,\n",
              "       1, 0, 1, 1, 1, 0, 0, 1, 0, 0, 1, 1, 1, 0, 1, 1, 1, 0, 0, 1, 1, 0,\n",
              "       1, 0, 0, 1, 1, 1, 1, 0, 0, 1, 0, 1, 0, 1, 1, 1, 0, 1, 1, 1, 1, 0,\n",
              "       0, 0, 0, 1, 1, 1, 0, 1, 1, 1, 0, 0, 0, 1, 1, 1, 0, 0, 1, 0, 0, 1,\n",
              "       0, 1, 1, 1, 1, 0, 1, 1, 0, 1, 0, 0, 1, 0, 1, 0, 1, 1, 1, 0, 1, 0,\n",
              "       1, 1, 0, 0, 1, 0, 1, 1, 1, 1, 0, 1, 1, 1, 0, 0, 1, 1, 1, 1, 0, 0,\n",
              "       0, 1, 0, 1, 1, 1, 0, 1, 1, 0])"
            ]
          },
          "metadata": {},
          "execution_count": 5
        }
      ]
    },
    {
      "cell_type": "code",
      "source": [
        "from sklearn.model_selection import train_test_split"
      ],
      "metadata": {
        "id": "KZCDttVkzqk4"
      },
      "execution_count": null,
      "outputs": []
    },
    {
      "cell_type": "code",
      "source": [
        "X_train, X_test, y_train, y_test = train_test_split(X, y, test_size=.2)"
      ],
      "metadata": {
        "id": "a5vFBigZ0D94"
      },
      "execution_count": null,
      "outputs": []
    },
    {
      "cell_type": "code",
      "source": [
        "X_train.shape, X_test.shape, y_train.shape, y_test.shape"
      ],
      "metadata": {
        "colab": {
          "base_uri": "https://localhost:8080/"
        },
        "id": "dl4u7jvy0dRQ",
        "outputId": "1385fb89-9b6a-42a7-bc72-bceb36318c5f"
      },
      "execution_count": null,
      "outputs": [
        {
          "output_type": "execute_result",
          "data": {
            "text/plain": [
              "((800, 2), (200, 2), (800,), (200,))"
            ]
          },
          "metadata": {},
          "execution_count": 17
        }
      ]
    },
    {
      "cell_type": "markdown",
      "source": [
        "# Visualizing Data"
      ],
      "metadata": {
        "id": "gQSfOz7A0r_v"
      }
    },
    {
      "cell_type": "code",
      "source": [
        "X_train[0], y_train[0]"
      ],
      "metadata": {
        "colab": {
          "base_uri": "https://localhost:8080/"
        },
        "id": "fLQXUvH921Sg",
        "outputId": "7b8eb757-fae1-419c-f1cc-437da36ffaf7"
      },
      "execution_count": null,
      "outputs": [
        {
          "output_type": "execute_result",
          "data": {
            "text/plain": [
              "(array([ 1.84708289, -0.0314608 ]), 1)"
            ]
          },
          "metadata": {},
          "execution_count": 30
        }
      ]
    },
    {
      "cell_type": "code",
      "source": [
        "set(y_train)"
      ],
      "metadata": {
        "colab": {
          "base_uri": "https://localhost:8080/"
        },
        "id": "ebahJNHP27IP",
        "outputId": "baa5444c-8674-4ae3-8852-9ba8dba41ff0"
      },
      "execution_count": null,
      "outputs": [
        {
          "output_type": "execute_result",
          "data": {
            "text/plain": [
              "{0, 1}"
            ]
          },
          "metadata": {},
          "execution_count": 31
        }
      ]
    },
    {
      "cell_type": "code",
      "source": [
        "import matplotlib.pyplot as plt"
      ],
      "metadata": {
        "id": "Mx4ZawJd1QGW"
      },
      "execution_count": null,
      "outputs": []
    },
    {
      "cell_type": "code",
      "source": [
        "plt.figure(figsize=(20, 10))\n",
        "plt.subplot(1, 2, 1)\n",
        "plt.scatter(X_train[:,0], X_train[:,1], c=y_train)\n",
        "plt.title(f'Training data\\nSamples: {len(X_train)}')\n",
        "plt.subplot(1, 2, 2)\n",
        "plt.scatter(X_test[:,0], X_test[:,1], c=y_test)\n",
        "plt.title(f'Test data\\nSamples: {len(X_test)}')"
      ],
      "metadata": {
        "colab": {
          "base_uri": "https://localhost:8080/",
          "height": 638
        },
        "id": "eImUBO6v1b0w",
        "outputId": "bef8f7e5-cb54-458e-a2bc-60dbc0cfcfe8"
      },
      "execution_count": null,
      "outputs": [
        {
          "output_type": "execute_result",
          "data": {
            "text/plain": [
              "Text(0.5, 1.0, 'Test data\\nSamples: 200')"
            ]
          },
          "metadata": {},
          "execution_count": 27
        },
        {
          "output_type": "display_data",
          "data": {
            "text/plain": [
              "<Figure size 1440x720 with 2 Axes>"
            ],
            "image/png": "[encoded data removed]"
          },
          "metadata": {
            "needs_background": "light"
          }
        }
      ]
    },
    {
      "cell_type": "markdown",
      "source": [
        "# Modelling"
      ],
      "metadata": {
        "id": "SgeRpYtq2j1F"
      }
    },
    {
      "cell_type": "markdown",
      "source": [
        "#### Looking for best lr"
      ],
      "metadata": {
        "id": "qFem2vfI32UI"
      }
    },
    {
      "cell_type": "code",
      "source": [
        "tf.random.set_seed(42)\n",
        "moons_model = tf.keras.models.Sequential([\n",
        "  tf.keras.layers.Dense(5, activation='relu'),\n",
        "  tf.keras.layers.Dense(5, activation='relu'),\n",
        "  tf.keras.layers.Dense(1, activation='sigmoid')\n",
        "])\n",
        "\n",
        "moons_model.compile(loss=tf.keras.losses.BinaryCrossentropy(),\n",
        "                    optimizer='Adam',\n",
        "                    metrics=['accuracy'])\n",
        "\n",
        "lr_callback = tf.keras.callbacks.LearningRateScheduler(lambda epoch: 1e-3 * 10 ** (epoch/20))\n",
        "\n",
        "moons_history = moons_model.fit(X_train, y_train, epochs=70, callbacks=[lr_callback], verbose=1)"
      ],
      "metadata": {
        "colab": {
          "base_uri": "https://localhost:8080/"
        },
        "id": "zWwXig2E2oXX",
        "outputId": "bdca3425-77a1-4037-87c5-44546b7cb675"
      },
      "execution_count": null,
      "outputs": [
        {
          "output_type": "stream",
          "name": "stdout",
          "text": [
            "Epoch 1/70\n",
            "25/25 [==============================] - 1s 4ms/step - loss: 0.7042 - accuracy: 0.5688 - lr: 0.0010\n",
            "Epoch 2/70\n",
            "25/25 [==============================] - 0s 4ms/step - loss: 0.6822 - accuracy: 0.6712 - lr: 0.0011\n",
            "Epoch 3/70\n",
            "25/25 [==============================] - 0s 3ms/step - loss: 0.6596 - accuracy: 0.7625 - lr: 0.0013\n",
            "Epoch 4/70\n",
            "25/25 [==============================] - 0s 4ms/step - loss: 0.6314 - accuracy: 0.8650 - lr: 0.0014\n",
            "Epoch 5/70\n",
            "25/25 [==============================] - 0s 4ms/step - loss: 0.5837 - accuracy: 0.8637 - lr: 0.0016\n",
            "Epoch 6/70\n",
            "25/25 [==============================] - 0s 3ms/step - loss: 0.5120 - accuracy: 0.8637 - lr: 0.0018\n",
            "Epoch 7/70\n",
            "25/25 [==============================] - 0s 6ms/step - loss: 0.4325 - accuracy: 0.8863 - lr: 0.0020\n",
            "Epoch 8/70\n",
            "25/25 [==============================] - 0s 4ms/step - loss: 0.3599 - accuracy: 0.8963 - lr: 0.0022\n",
            "Epoch 9/70\n",
            "25/25 [==============================] - 0s 4ms/step - loss: 0.3050 - accuracy: 0.8925 - lr: 0.0025\n",
            "Epoch 10/70\n",
            "25/25 [==============================] - 0s 4ms/step - loss: 0.2685 - accuracy: 0.8950 - lr: 0.0028\n",
            "Epoch 11/70\n",
            "25/25 [==============================] - 0s 4ms/step - loss: 0.2431 - accuracy: 0.8963 - lr: 0.0032\n",
            "Epoch 12/70\n",
            "25/25 [==============================] - 0s 4ms/step - loss: 0.2266 - accuracy: 0.8938 - lr: 0.0035\n",
            "Epoch 13/70\n",
            "25/25 [==============================] - 0s 4ms/step - loss: 0.2172 - accuracy: 0.9025 - lr: 0.0040\n",
            "Epoch 14/70\n",
            "25/25 [==============================] - 0s 4ms/step - loss: 0.2096 - accuracy: 0.9025 - lr: 0.0045\n",
            "Epoch 15/70\n",
            "25/25 [==============================] - 0s 2ms/step - loss: 0.2049 - accuracy: 0.9062 - lr: 0.0050\n",
            "Epoch 16/70\n",
            "25/25 [==============================] - 0s 4ms/step - loss: 0.2013 - accuracy: 0.9062 - lr: 0.0056\n",
            "Epoch 17/70\n",
            "25/25 [==============================] - 0s 3ms/step - loss: 0.1977 - accuracy: 0.9062 - lr: 0.0063\n",
            "Epoch 18/70\n",
            "25/25 [==============================] - 0s 2ms/step - loss: 0.1959 - accuracy: 0.9112 - lr: 0.0071\n",
            "Epoch 19/70\n",
            "25/25 [==============================] - 0s 3ms/step - loss: 0.2005 - accuracy: 0.9000 - lr: 0.0079\n",
            "Epoch 20/70\n",
            "25/25 [==============================] - 0s 3ms/step - loss: 0.2004 - accuracy: 0.8925 - lr: 0.0089\n",
            "Epoch 21/70\n",
            "25/25 [==============================] - 0s 4ms/step - loss: 0.1959 - accuracy: 0.8975 - lr: 0.0100\n",
            "Epoch 22/70\n",
            "25/25 [==============================] - 0s 3ms/step - loss: 0.2043 - accuracy: 0.9075 - lr: 0.0112\n",
            "Epoch 23/70\n",
            "25/25 [==============================] - 0s 9ms/step - loss: 0.1914 - accuracy: 0.9062 - lr: 0.0126\n",
            "Epoch 24/70\n",
            "25/25 [==============================] - 0s 8ms/step - loss: 0.2020 - accuracy: 0.9013 - lr: 0.0141\n",
            "Epoch 25/70\n",
            "25/25 [==============================] - 0s 6ms/step - loss: 0.1976 - accuracy: 0.9000 - lr: 0.0158\n",
            "Epoch 26/70\n",
            "25/25 [==============================] - 0s 4ms/step - loss: 0.1923 - accuracy: 0.9075 - lr: 0.0178\n",
            "Epoch 27/70\n",
            "25/25 [==============================] - 0s 3ms/step - loss: 0.1995 - accuracy: 0.8988 - lr: 0.0200\n",
            "Epoch 28/70\n",
            "25/25 [==============================] - 0s 2ms/step - loss: 0.1903 - accuracy: 0.9112 - lr: 0.0224\n",
            "Epoch 29/70\n",
            "25/25 [==============================] - 0s 1ms/step - loss: 0.1934 - accuracy: 0.9038 - lr: 0.0251\n",
            "Epoch 30/70\n",
            "25/25 [==============================] - 0s 2ms/step - loss: 0.1976 - accuracy: 0.9062 - lr: 0.0282\n",
            "Epoch 31/70\n",
            "25/25 [==============================] - 0s 1ms/step - loss: 0.1918 - accuracy: 0.9000 - lr: 0.0316\n",
            "Epoch 32/70\n",
            "25/25 [==============================] - 0s 2ms/step - loss: 0.1977 - accuracy: 0.9050 - lr: 0.0355\n",
            "Epoch 33/70\n",
            "25/25 [==============================] - 0s 1ms/step - loss: 0.2072 - accuracy: 0.8950 - lr: 0.0398\n",
            "Epoch 34/70\n",
            "25/25 [==============================] - 0s 2ms/step - loss: 0.2012 - accuracy: 0.9125 - lr: 0.0447\n",
            "Epoch 35/70\n",
            "25/25 [==============================] - 0s 2ms/step - loss: 0.1910 - accuracy: 0.9150 - lr: 0.0501\n",
            "Epoch 36/70\n",
            "25/25 [==============================] - 0s 2ms/step - loss: 0.1937 - accuracy: 0.9050 - lr: 0.0562\n",
            "Epoch 37/70\n",
            "25/25 [==============================] - 0s 2ms/step - loss: 0.2008 - accuracy: 0.9087 - lr: 0.0631\n",
            "Epoch 38/70\n",
            "25/25 [==============================] - 0s 1ms/step - loss: 0.1949 - accuracy: 0.9100 - lr: 0.0708\n",
            "Epoch 39/70\n",
            "25/25 [==============================] - 0s 2ms/step - loss: 0.1909 - accuracy: 0.9125 - lr: 0.0794\n",
            "Epoch 40/70\n",
            "25/25 [==============================] - 0s 2ms/step - loss: 0.1887 - accuracy: 0.9137 - lr: 0.0891\n",
            "Epoch 41/70\n",
            "25/25 [==============================] - 0s 2ms/step - loss: 0.1780 - accuracy: 0.9175 - lr: 0.1000\n",
            "Epoch 42/70\n",
            "25/25 [==============================] - 0s 2ms/step - loss: 0.1747 - accuracy: 0.9287 - lr: 0.1122\n",
            "Epoch 43/70\n",
            "25/25 [==============================] - 0s 2ms/step - loss: 0.1177 - accuracy: 0.9525 - lr: 0.1259\n",
            "Epoch 44/70\n",
            "25/25 [==============================] - 0s 2ms/step - loss: 0.0289 - accuracy: 0.9900 - lr: 0.1413\n",
            "Epoch 45/70\n",
            "25/25 [==============================] - 0s 2ms/step - loss: 0.0022 - accuracy: 1.0000 - lr: 0.1585\n",
            "Epoch 46/70\n",
            "25/25 [==============================] - 0s 2ms/step - loss: 3.0637e-04 - accuracy: 1.0000 - lr: 0.1778\n",
            "Epoch 47/70\n",
            "25/25 [==============================] - 0s 2ms/step - loss: 1.4556e-04 - accuracy: 1.0000 - lr: 0.1995\n",
            "Epoch 48/70\n",
            "25/25 [==============================] - 0s 2ms/step - loss: 9.8073e-05 - accuracy: 1.0000 - lr: 0.2239\n",
            "Epoch 49/70\n",
            "25/25 [==============================] - 0s 2ms/step - loss: 7.3697e-05 - accuracy: 1.0000 - lr: 0.2512\n",
            "Epoch 50/70\n",
            "25/25 [==============================] - 0s 2ms/step - loss: 5.9469e-05 - accuracy: 1.0000 - lr: 0.2818\n",
            "Epoch 51/70\n",
            "25/25 [==============================] - 0s 2ms/step - loss: 4.8546e-05 - accuracy: 1.0000 - lr: 0.3162\n",
            "Epoch 52/70\n",
            "25/25 [==============================] - 0s 2ms/step - loss: 3.9844e-05 - accuracy: 1.0000 - lr: 0.3548\n",
            "Epoch 53/70\n",
            "25/25 [==============================] - 0s 2ms/step - loss: 3.3092e-05 - accuracy: 1.0000 - lr: 0.3981\n",
            "Epoch 54/70\n",
            "25/25 [==============================] - 0s 2ms/step - loss: 2.7304e-05 - accuracy: 1.0000 - lr: 0.4467\n",
            "Epoch 55/70\n",
            "25/25 [==============================] - 0s 2ms/step - loss: 2.3060e-05 - accuracy: 1.0000 - lr: 0.5012\n",
            "Epoch 56/70\n",
            "25/25 [==============================] - 0s 1ms/step - loss: 1.9511e-05 - accuracy: 1.0000 - lr: 0.5623\n",
            "Epoch 57/70\n",
            "25/25 [==============================] - 0s 2ms/step - loss: 1.6828e-05 - accuracy: 1.0000 - lr: 0.6310\n",
            "Epoch 58/70\n",
            "25/25 [==============================] - 0s 2ms/step - loss: 1.4283e-05 - accuracy: 1.0000 - lr: 0.7079\n",
            "Epoch 59/70\n",
            "25/25 [==============================] - 0s 1ms/step - loss: 1.2152e-05 - accuracy: 1.0000 - lr: 0.7943\n",
            "Epoch 60/70\n",
            "25/25 [==============================] - 0s 2ms/step - loss: 1.0587e-05 - accuracy: 1.0000 - lr: 0.8913\n",
            "Epoch 61/70\n",
            "25/25 [==============================] - 0s 2ms/step - loss: 8.7983e-06 - accuracy: 1.0000 - lr: 1.0000\n",
            "Epoch 62/70\n",
            "25/25 [==============================] - 0s 2ms/step - loss: 7.7428e-06 - accuracy: 1.0000 - lr: 1.1220\n",
            "Epoch 63/70\n",
            "25/25 [==============================] - 0s 2ms/step - loss: 6.4789e-06 - accuracy: 1.0000 - lr: 1.2589\n",
            "Epoch 64/70\n",
            "25/25 [==============================] - 0s 2ms/step - loss: 5.6112e-06 - accuracy: 1.0000 - lr: 1.4125\n",
            "Epoch 65/70\n",
            "25/25 [==============================] - 0s 2ms/step - loss: 4.7866e-06 - accuracy: 1.0000 - lr: 1.5849\n",
            "Epoch 66/70\n",
            "25/25 [==============================] - 0s 2ms/step - loss: 4.1941e-06 - accuracy: 1.0000 - lr: 1.7783\n",
            "Epoch 67/70\n",
            "25/25 [==============================] - 0s 2ms/step - loss: 3.6860e-06 - accuracy: 1.0000 - lr: 1.9953\n",
            "Epoch 68/70\n",
            "25/25 [==============================] - 0s 2ms/step - loss: 3.0259e-06 - accuracy: 1.0000 - lr: 2.2387\n",
            "Epoch 69/70\n",
            "25/25 [==============================] - 0s 1ms/step - loss: 2.5793e-06 - accuracy: 1.0000 - lr: 2.5119\n",
            "Epoch 70/70\n",
            "25/25 [==============================] - 0s 1ms/step - loss: 2.2409e-06 - accuracy: 1.0000 - lr: 2.8184\n"
          ]
        }
      ]
    },
    {
      "cell_type": "code",
      "source": [
        "moons_model.evaluate(X_test, y_test)"
      ],
      "metadata": {
        "colab": {
          "base_uri": "https://localhost:8080/"
        },
        "id": "-MZ9Wqse9JDo",
        "outputId": "3d3d4af2-06ad-42ea-fce6-bf8f566c80fb"
      },
      "execution_count": null,
      "outputs": [
        {
          "output_type": "stream",
          "name": "stdout",
          "text": [
            "7/7 [==============================] - 0s 3ms/step - loss: 2.9354e-06 - accuracy: 1.0000\n"
          ]
        },
        {
          "output_type": "execute_result",
          "data": {
            "text/plain": [
              "[2.9353559511946514e-06, 1.0]"
            ]
          },
          "metadata": {},
          "execution_count": 99
        }
      ]
    },
    {
      "cell_type": "markdown",
      "source": [
        "By accident I already found the best solution - it is a simple problem so we don't need so sophisticated model"
      ],
      "metadata": {
        "id": "oljnYCxC9Oif"
      }
    },
    {
      "cell_type": "code",
      "source": [
        "import pandas as pd"
      ],
      "metadata": {
        "id": "P5la-THI3pEo"
      },
      "execution_count": null,
      "outputs": []
    },
    {
      "cell_type": "code",
      "source": [
        "pd.DataFrame(moons_history.history).plot()"
      ],
      "metadata": {
        "colab": {
          "base_uri": "https://localhost:8080/",
          "height": 282
        },
        "id": "0LIt-sz_48pQ",
        "outputId": "70772731-82ae-40aa-d8f7-d7198c9c6bce"
      },
      "execution_count": null,
      "outputs": [
        {
          "output_type": "execute_result",
          "data": {
            "text/plain": [
              "<matplotlib.axes._subplots.AxesSubplot at 0x7f61acd35450>"
            ]
          },
          "metadata": {},
          "execution_count": 101
        },
        {
          "output_type": "display_data",
          "data": {
            "text/plain": [
              "<Figure size 432x288 with 1 Axes>"
            ],
            "image/png": "[encoded data removed]"
          },
          "metadata": {
            "needs_background": "light"
          }
        }
      ]
    },
    {
      "cell_type": "code",
      "source": [
        "min_x = -1.2\n",
        "max_x = 2.2\n",
        "min_y = -.5\n",
        "max_y = 1"
      ],
      "metadata": {
        "id": "R-TOUevH9-g4"
      },
      "execution_count": null,
      "outputs": []
    },
    {
      "cell_type": "code",
      "source": [
        "moons_model.summary()"
      ],
      "metadata": {
        "colab": {
          "base_uri": "https://localhost:8080/"
        },
        "id": "c3I_ME6b_8TP",
        "outputId": "17a40cbc-59da-4ce0-acd5-100ae14ec2d5"
      },
      "execution_count": null,
      "outputs": [
        {
          "output_type": "stream",
          "name": "stdout",
          "text": [
            "Model: \"sequential_22\"\n",
            "_________________________________________________________________\n",
            " Layer (type)                Output Shape              Param #   \n",
            "=================================================================\n",
            " dense_48 (Dense)            (None, 5)                 15        \n",
            "                                                                 \n",
            " dense_49 (Dense)            (None, 5)                 30        \n",
            "                                                                 \n",
            " dense_50 (Dense)            (None, 1)                 6         \n",
            "                                                                 \n",
            "=================================================================\n",
            "Total params: 51\n",
            "Trainable params: 51\n",
            "Non-trainable params: 0\n",
            "_________________________________________________________________\n"
          ]
        }
      ]
    },
    {
      "cell_type": "code",
      "source": [
        "import numpy as np"
      ],
      "metadata": {
        "id": "BubTWHeAAyNP"
      },
      "execution_count": null,
      "outputs": []
    },
    {
      "cell_type": "code",
      "source": [
        "heatmap = []\n",
        "for i in np.linspace(min_x, max_x, 100):\n",
        "  for j in np.linspace(min_y, max_y, 100):\n",
        "    heatmap.append([i, j])\n",
        "heatmap = moons_model.predict(heatmap)\n",
        "heatmap = heatmap.reshape(100, 100)\n",
        "heatmap = heatmap.round().transpose()\n",
        "\n",
        "\n",
        "plt.contourf(np.linspace(min_x, max_x, 100), np.linspace(min_y, max_y, 100), heatmap, cmap=plt.cm.RdYlBu, alpha=.7)\n",
        "plt.scatter(X_test[:,0], X_test[:,1], c=y_test)"
      ],
      "metadata": {
        "colab": {
          "base_uri": "https://localhost:8080/",
          "height": 286
        },
        "id": "9Bfa2JJi-TEA",
        "outputId": "717ce67c-8e39-4e00-93e0-4c9a797acd6b"
      },
      "execution_count": null,
      "outputs": [
        {
          "output_type": "execute_result",
          "data": {
            "text/plain": [
              "<matplotlib.collections.PathCollection at 0x7f61ae49b710>"
            ]
          },
          "metadata": {},
          "execution_count": 143
        },
        {
          "output_type": "display_data",
          "data": {
            "text/plain": [
              "<Figure size 432x288 with 1 Axes>"
            ],
            "image/png": "[encoded data removed]"
          },
          "metadata": {
            "needs_background": "light"
          }
        }
      ]
    },
    {
      "cell_type": "code",
      "source": [
        ""
      ],
      "metadata": {
        "id": "Rijm3bRpAUwX"
      },
      "execution_count": null,
      "outputs": []
    }
  ]
}